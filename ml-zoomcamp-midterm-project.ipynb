{
 "cells": [
  {
   "cell_type": "code",
   "execution_count": 2,
   "metadata": {
    "_cell_guid": "b1076dfc-b9ad-4769-8c92-a6c4dae69d19",
    "_uuid": "8f2839f25d086af736a60e9eeb907d3b93b6e0e5",
    "execution": {
     "iopub.execute_input": "2022-11-09T00:23:29.830389Z",
     "iopub.status.busy": "2022-11-09T00:23:29.829502Z",
     "iopub.status.idle": "2022-11-09T00:23:29.841085Z",
     "shell.execute_reply": "2022-11-09T00:23:29.839624Z",
     "shell.execute_reply.started": "2022-11-09T00:23:29.830335Z"
    },
    "scrolled": true
   },
   "outputs": [],
   "source": [
    "import numpy as np # linear algebra\n",
    "import pandas as pd # data processing, CSV file I/O (e.g. pd.read_csv)\n",
    "import seaborn as sns\n",
    "import matplotlib.pyplot as plt\n",
    "from sklearn.model_selection import train_test_split"
   ]
  },
  {
   "cell_type": "markdown",
   "metadata": {},
   "source": [
    "## Reading dataset"
   ]
  },
  {
   "cell_type": "code",
   "execution_count": 4,
   "metadata": {
    "execution": {
     "iopub.execute_input": "2022-11-09T00:23:36.609779Z",
     "iopub.status.busy": "2022-11-09T00:23:36.609278Z",
     "iopub.status.idle": "2022-11-09T00:23:36.654465Z",
     "shell.execute_reply": "2022-11-09T00:23:36.653029Z",
     "shell.execute_reply.started": "2022-11-09T00:23:36.609716Z"
    }
   },
   "outputs": [],
   "source": [
    "data= pd.read_csv('healthcare-dataset-stroke-data.csv')\n",
    "\n",
    "df= data"
   ]
  },
  {
   "cell_type": "markdown",
   "metadata": {},
   "source": [
    "## Quick view on the dataset"
   ]
  },
  {
   "cell_type": "code",
   "execution_count": 5,
   "metadata": {
    "execution": {
     "iopub.execute_input": "2022-11-09T00:23:45.491780Z",
     "iopub.status.busy": "2022-11-09T00:23:45.491349Z",
     "iopub.status.idle": "2022-11-09T00:23:45.519770Z",
     "shell.execute_reply": "2022-11-09T00:23:45.518558Z",
     "shell.execute_reply.started": "2022-11-09T00:23:45.491744Z"
    }
   },
   "outputs": [
    {
     "data": {
      "text/html": [
       "<div>\n",
       "<style scoped>\n",
       "    .dataframe tbody tr th:only-of-type {\n",
       "        vertical-align: middle;\n",
       "    }\n",
       "\n",
       "    .dataframe tbody tr th {\n",
       "        vertical-align: top;\n",
       "    }\n",
       "\n",
       "    .dataframe thead th {\n",
       "        text-align: right;\n",
       "    }\n",
       "</style>\n",
       "<table border=\"1\" class=\"dataframe\">\n",
       "  <thead>\n",
       "    <tr style=\"text-align: right;\">\n",
       "      <th></th>\n",
       "      <th>id</th>\n",
       "      <th>gender</th>\n",
       "      <th>age</th>\n",
       "      <th>hypertension</th>\n",
       "      <th>heart_disease</th>\n",
       "      <th>ever_married</th>\n",
       "      <th>work_type</th>\n",
       "      <th>Residence_type</th>\n",
       "      <th>avg_glucose_level</th>\n",
       "      <th>bmi</th>\n",
       "      <th>smoking_status</th>\n",
       "      <th>stroke</th>\n",
       "    </tr>\n",
       "  </thead>\n",
       "  <tbody>\n",
       "    <tr>\n",
       "      <th>0</th>\n",
       "      <td>9046</td>\n",
       "      <td>Male</td>\n",
       "      <td>67.0</td>\n",
       "      <td>0</td>\n",
       "      <td>1</td>\n",
       "      <td>Yes</td>\n",
       "      <td>Private</td>\n",
       "      <td>Urban</td>\n",
       "      <td>228.69</td>\n",
       "      <td>36.6</td>\n",
       "      <td>formerly smoked</td>\n",
       "      <td>1</td>\n",
       "    </tr>\n",
       "    <tr>\n",
       "      <th>1</th>\n",
       "      <td>51676</td>\n",
       "      <td>Female</td>\n",
       "      <td>61.0</td>\n",
       "      <td>0</td>\n",
       "      <td>0</td>\n",
       "      <td>Yes</td>\n",
       "      <td>Self-employed</td>\n",
       "      <td>Rural</td>\n",
       "      <td>202.21</td>\n",
       "      <td>NaN</td>\n",
       "      <td>never smoked</td>\n",
       "      <td>1</td>\n",
       "    </tr>\n",
       "    <tr>\n",
       "      <th>2</th>\n",
       "      <td>31112</td>\n",
       "      <td>Male</td>\n",
       "      <td>80.0</td>\n",
       "      <td>0</td>\n",
       "      <td>1</td>\n",
       "      <td>Yes</td>\n",
       "      <td>Private</td>\n",
       "      <td>Rural</td>\n",
       "      <td>105.92</td>\n",
       "      <td>32.5</td>\n",
       "      <td>never smoked</td>\n",
       "      <td>1</td>\n",
       "    </tr>\n",
       "    <tr>\n",
       "      <th>3</th>\n",
       "      <td>60182</td>\n",
       "      <td>Female</td>\n",
       "      <td>49.0</td>\n",
       "      <td>0</td>\n",
       "      <td>0</td>\n",
       "      <td>Yes</td>\n",
       "      <td>Private</td>\n",
       "      <td>Urban</td>\n",
       "      <td>171.23</td>\n",
       "      <td>34.4</td>\n",
       "      <td>smokes</td>\n",
       "      <td>1</td>\n",
       "    </tr>\n",
       "    <tr>\n",
       "      <th>4</th>\n",
       "      <td>1665</td>\n",
       "      <td>Female</td>\n",
       "      <td>79.0</td>\n",
       "      <td>1</td>\n",
       "      <td>0</td>\n",
       "      <td>Yes</td>\n",
       "      <td>Self-employed</td>\n",
       "      <td>Rural</td>\n",
       "      <td>174.12</td>\n",
       "      <td>24.0</td>\n",
       "      <td>never smoked</td>\n",
       "      <td>1</td>\n",
       "    </tr>\n",
       "  </tbody>\n",
       "</table>\n",
       "</div>"
      ],
      "text/plain": [
       "      id  gender   age  hypertension  heart_disease ever_married  \\\n",
       "0   9046    Male  67.0             0              1          Yes   \n",
       "1  51676  Female  61.0             0              0          Yes   \n",
       "2  31112    Male  80.0             0              1          Yes   \n",
       "3  60182  Female  49.0             0              0          Yes   \n",
       "4   1665  Female  79.0             1              0          Yes   \n",
       "\n",
       "       work_type Residence_type  avg_glucose_level   bmi   smoking_status  \\\n",
       "0        Private          Urban             228.69  36.6  formerly smoked   \n",
       "1  Self-employed          Rural             202.21   NaN     never smoked   \n",
       "2        Private          Rural             105.92  32.5     never smoked   \n",
       "3        Private          Urban             171.23  34.4           smokes   \n",
       "4  Self-employed          Rural             174.12  24.0     never smoked   \n",
       "\n",
       "   stroke  \n",
       "0       1  \n",
       "1       1  \n",
       "2       1  \n",
       "3       1  \n",
       "4       1  "
      ]
     },
     "execution_count": 5,
     "metadata": {},
     "output_type": "execute_result"
    }
   ],
   "source": [
    "df.head()"
   ]
  },
  {
   "cell_type": "code",
   "execution_count": 6,
   "metadata": {
    "execution": {
     "iopub.execute_input": "2022-11-09T00:23:50.271754Z",
     "iopub.status.busy": "2022-11-09T00:23:50.271306Z",
     "iopub.status.idle": "2022-11-09T00:23:50.285461Z",
     "shell.execute_reply": "2022-11-09T00:23:50.284181Z",
     "shell.execute_reply.started": "2022-11-09T00:23:50.271716Z"
    }
   },
   "outputs": [
    {
     "data": {
      "text/plain": [
       "id                     48609\n",
       "gender                Female\n",
       "age                     81.0\n",
       "hypertension               0\n",
       "heart_disease              1\n",
       "ever_married             Yes\n",
       "work_type            Private\n",
       "Residence_type         Rural\n",
       "avg_glucose_level     123.49\n",
       "bmi                     30.7\n",
       "smoking_status        smokes\n",
       "stroke                     0\n",
       "Name: 1511, dtype: object"
      ]
     },
     "execution_count": 6,
     "metadata": {},
     "output_type": "execute_result"
    }
   ],
   "source": [
    "df.sample(1).iloc[0]"
   ]
  },
  {
   "cell_type": "code",
   "execution_count": 7,
   "metadata": {
    "execution": {
     "iopub.execute_input": "2022-11-09T00:23:59.667762Z",
     "iopub.status.busy": "2022-11-09T00:23:59.667330Z",
     "iopub.status.idle": "2022-11-09T00:23:59.697893Z",
     "shell.execute_reply": "2022-11-09T00:23:59.696635Z",
     "shell.execute_reply.started": "2022-11-09T00:23:59.667724Z"
    }
   },
   "outputs": [
    {
     "name": "stdout",
     "output_type": "stream",
     "text": [
      "<class 'pandas.core.frame.DataFrame'>\n",
      "RangeIndex: 5110 entries, 0 to 5109\n",
      "Data columns (total 12 columns):\n",
      " #   Column             Non-Null Count  Dtype  \n",
      "---  ------             --------------  -----  \n",
      " 0   id                 5110 non-null   int64  \n",
      " 1   gender             5110 non-null   object \n",
      " 2   age                5110 non-null   float64\n",
      " 3   hypertension       5110 non-null   int64  \n",
      " 4   heart_disease      5110 non-null   int64  \n",
      " 5   ever_married       5110 non-null   object \n",
      " 6   work_type          5110 non-null   object \n",
      " 7   Residence_type     5110 non-null   object \n",
      " 8   avg_glucose_level  5110 non-null   float64\n",
      " 9   bmi                4909 non-null   float64\n",
      " 10  smoking_status     5110 non-null   object \n",
      " 11  stroke             5110 non-null   int64  \n",
      "dtypes: float64(3), int64(4), object(5)\n",
      "memory usage: 479.2+ KB\n"
     ]
    }
   ],
   "source": [
    "df.info()"
   ]
  },
  {
   "cell_type": "code",
   "execution_count": 8,
   "metadata": {
    "execution": {
     "iopub.execute_input": "2022-11-09T00:24:04.747401Z",
     "iopub.status.busy": "2022-11-09T00:24:04.746987Z",
     "iopub.status.idle": "2022-11-09T00:24:04.790534Z",
     "shell.execute_reply": "2022-11-09T00:24:04.789229Z",
     "shell.execute_reply.started": "2022-11-09T00:24:04.747368Z"
    }
   },
   "outputs": [
    {
     "data": {
      "text/html": [
       "<div>\n",
       "<style scoped>\n",
       "    .dataframe tbody tr th:only-of-type {\n",
       "        vertical-align: middle;\n",
       "    }\n",
       "\n",
       "    .dataframe tbody tr th {\n",
       "        vertical-align: top;\n",
       "    }\n",
       "\n",
       "    .dataframe thead th {\n",
       "        text-align: right;\n",
       "    }\n",
       "</style>\n",
       "<table border=\"1\" class=\"dataframe\">\n",
       "  <thead>\n",
       "    <tr style=\"text-align: right;\">\n",
       "      <th></th>\n",
       "      <th>id</th>\n",
       "      <th>age</th>\n",
       "      <th>hypertension</th>\n",
       "      <th>heart_disease</th>\n",
       "      <th>avg_glucose_level</th>\n",
       "      <th>bmi</th>\n",
       "      <th>stroke</th>\n",
       "    </tr>\n",
       "  </thead>\n",
       "  <tbody>\n",
       "    <tr>\n",
       "      <th>count</th>\n",
       "      <td>5110.000000</td>\n",
       "      <td>5110.000000</td>\n",
       "      <td>5110.000000</td>\n",
       "      <td>5110.000000</td>\n",
       "      <td>5110.000000</td>\n",
       "      <td>4909.000000</td>\n",
       "      <td>5110.000000</td>\n",
       "    </tr>\n",
       "    <tr>\n",
       "      <th>mean</th>\n",
       "      <td>36517.829354</td>\n",
       "      <td>43.226614</td>\n",
       "      <td>0.097456</td>\n",
       "      <td>0.054012</td>\n",
       "      <td>106.147677</td>\n",
       "      <td>28.893237</td>\n",
       "      <td>0.048728</td>\n",
       "    </tr>\n",
       "    <tr>\n",
       "      <th>std</th>\n",
       "      <td>21161.721625</td>\n",
       "      <td>22.612647</td>\n",
       "      <td>0.296607</td>\n",
       "      <td>0.226063</td>\n",
       "      <td>45.283560</td>\n",
       "      <td>7.854067</td>\n",
       "      <td>0.215320</td>\n",
       "    </tr>\n",
       "    <tr>\n",
       "      <th>min</th>\n",
       "      <td>67.000000</td>\n",
       "      <td>0.080000</td>\n",
       "      <td>0.000000</td>\n",
       "      <td>0.000000</td>\n",
       "      <td>55.120000</td>\n",
       "      <td>10.300000</td>\n",
       "      <td>0.000000</td>\n",
       "    </tr>\n",
       "    <tr>\n",
       "      <th>25%</th>\n",
       "      <td>17741.250000</td>\n",
       "      <td>25.000000</td>\n",
       "      <td>0.000000</td>\n",
       "      <td>0.000000</td>\n",
       "      <td>77.245000</td>\n",
       "      <td>23.500000</td>\n",
       "      <td>0.000000</td>\n",
       "    </tr>\n",
       "    <tr>\n",
       "      <th>50%</th>\n",
       "      <td>36932.000000</td>\n",
       "      <td>45.000000</td>\n",
       "      <td>0.000000</td>\n",
       "      <td>0.000000</td>\n",
       "      <td>91.885000</td>\n",
       "      <td>28.100000</td>\n",
       "      <td>0.000000</td>\n",
       "    </tr>\n",
       "    <tr>\n",
       "      <th>75%</th>\n",
       "      <td>54682.000000</td>\n",
       "      <td>61.000000</td>\n",
       "      <td>0.000000</td>\n",
       "      <td>0.000000</td>\n",
       "      <td>114.090000</td>\n",
       "      <td>33.100000</td>\n",
       "      <td>0.000000</td>\n",
       "    </tr>\n",
       "    <tr>\n",
       "      <th>max</th>\n",
       "      <td>72940.000000</td>\n",
       "      <td>82.000000</td>\n",
       "      <td>1.000000</td>\n",
       "      <td>1.000000</td>\n",
       "      <td>271.740000</td>\n",
       "      <td>97.600000</td>\n",
       "      <td>1.000000</td>\n",
       "    </tr>\n",
       "  </tbody>\n",
       "</table>\n",
       "</div>"
      ],
      "text/plain": [
       "                 id          age  hypertension  heart_disease  \\\n",
       "count   5110.000000  5110.000000   5110.000000    5110.000000   \n",
       "mean   36517.829354    43.226614      0.097456       0.054012   \n",
       "std    21161.721625    22.612647      0.296607       0.226063   \n",
       "min       67.000000     0.080000      0.000000       0.000000   \n",
       "25%    17741.250000    25.000000      0.000000       0.000000   \n",
       "50%    36932.000000    45.000000      0.000000       0.000000   \n",
       "75%    54682.000000    61.000000      0.000000       0.000000   \n",
       "max    72940.000000    82.000000      1.000000       1.000000   \n",
       "\n",
       "       avg_glucose_level          bmi       stroke  \n",
       "count        5110.000000  4909.000000  5110.000000  \n",
       "mean          106.147677    28.893237     0.048728  \n",
       "std            45.283560     7.854067     0.215320  \n",
       "min            55.120000    10.300000     0.000000  \n",
       "25%            77.245000    23.500000     0.000000  \n",
       "50%            91.885000    28.100000     0.000000  \n",
       "75%           114.090000    33.100000     0.000000  \n",
       "max           271.740000    97.600000     1.000000  "
      ]
     },
     "execution_count": 8,
     "metadata": {},
     "output_type": "execute_result"
    }
   ],
   "source": [
    "df.describe()"
   ]
  },
  {
   "cell_type": "markdown",
   "metadata": {},
   "source": [
    "# EDA "
   ]
  },
  {
   "cell_type": "markdown",
   "metadata": {},
   "source": [
    "## EDA for categorical features"
   ]
  },
  {
   "cell_type": "code",
   "execution_count": 9,
   "metadata": {
    "execution": {
     "iopub.execute_input": "2022-11-09T00:24:32.416935Z",
     "iopub.status.busy": "2022-11-09T00:24:32.416462Z",
     "iopub.status.idle": "2022-11-09T00:24:32.423155Z",
     "shell.execute_reply": "2022-11-09T00:24:32.421352Z",
     "shell.execute_reply.started": "2022-11-09T00:24:32.416887Z"
    }
   },
   "outputs": [],
   "source": [
    "heart_disval={\n",
    "    0:'no',\n",
    "    1:'yes'\n",
    "}\n",
    "\n",
    "stroke_val={\n",
    "    0:'no',\n",
    "    1:'yes'\n",
    "}\n",
    "\n",
    "hypertension_val={\n",
    "    0:\"no\",\n",
    "    1:'yes'\n",
    "}"
   ]
  },
  {
   "cell_type": "code",
   "execution_count": 10,
   "metadata": {
    "execution": {
     "iopub.execute_input": "2022-11-09T00:24:32.927309Z",
     "iopub.status.busy": "2022-11-09T00:24:32.926862Z",
     "iopub.status.idle": "2022-11-09T00:24:32.938579Z",
     "shell.execute_reply": "2022-11-09T00:24:32.937556Z",
     "shell.execute_reply.started": "2022-11-09T00:24:32.927265Z"
    }
   },
   "outputs": [],
   "source": [
    "df.heart_disease= df.heart_disease.map(heart_disval)\n",
    "df.stroke=df.stroke.map(stroke_val)\n",
    "df.hypertension=df.hypertension.map(hypertension_val)"
   ]
  },
  {
   "cell_type": "code",
   "execution_count": 11,
   "metadata": {
    "execution": {
     "iopub.execute_input": "2022-11-09T00:24:36.949545Z",
     "iopub.status.busy": "2022-11-09T00:24:36.949112Z",
     "iopub.status.idle": "2022-11-09T00:24:36.957337Z",
     "shell.execute_reply": "2022-11-09T00:24:36.955647Z",
     "shell.execute_reply.started": "2022-11-09T00:24:36.949511Z"
    }
   },
   "outputs": [],
   "source": [
    "df.columns=df.columns.str.lower()"
   ]
  },
  {
   "cell_type": "code",
   "execution_count": 12,
   "metadata": {
    "execution": {
     "iopub.execute_input": "2022-11-09T00:24:43.386201Z",
     "iopub.status.busy": "2022-11-09T00:24:43.385773Z",
     "iopub.status.idle": "2022-11-09T00:24:43.391705Z",
     "shell.execute_reply": "2022-11-09T00:24:43.390388Z",
     "shell.execute_reply.started": "2022-11-09T00:24:43.386162Z"
    }
   },
   "outputs": [],
   "source": [
    "categorical=['gender','hypertension','heart_disease','ever_married','work_type','residence_type','smoking_status']"
   ]
  },
  {
   "cell_type": "code",
   "execution_count": 13,
   "metadata": {
    "execution": {
     "iopub.execute_input": "2022-11-09T00:25:01.557747Z",
     "iopub.status.busy": "2022-11-09T00:25:01.557311Z",
     "iopub.status.idle": "2022-11-09T00:25:01.590614Z",
     "shell.execute_reply": "2022-11-09T00:25:01.589222Z",
     "shell.execute_reply.started": "2022-11-09T00:25:01.557710Z"
    }
   },
   "outputs": [
    {
     "data": {
      "text/plain": [
       "0.002750494543529103"
      ]
     },
     "execution_count": 13,
     "metadata": {},
     "output_type": "execute_result"
    }
   ],
   "source": [
    "from sklearn.metrics import mutual_info_score\n",
    "df_used=df.copy()\n",
    "mutual_info_score(df.stroke, df.smoking_status)"
   ]
  },
  {
   "cell_type": "code",
   "execution_count": 14,
   "metadata": {
    "execution": {
     "iopub.execute_input": "2022-11-09T00:25:08.317951Z",
     "iopub.status.busy": "2022-11-09T00:25:08.317480Z",
     "iopub.status.idle": "2022-11-09T00:25:08.326567Z",
     "shell.execute_reply": "2022-11-09T00:25:08.325218Z",
     "shell.execute_reply.started": "2022-11-09T00:25:08.317916Z"
    }
   },
   "outputs": [],
   "source": [
    "df_used['stroke']=(df_used.stroke=='yes').astype('int')"
   ]
  },
  {
   "cell_type": "code",
   "execution_count": 15,
   "metadata": {
    "execution": {
     "iopub.execute_input": "2022-11-09T00:25:11.409267Z",
     "iopub.status.busy": "2022-11-09T00:25:11.408230Z",
     "iopub.status.idle": "2022-11-09T00:25:11.413747Z",
     "shell.execute_reply": "2022-11-09T00:25:11.412596Z",
     "shell.execute_reply.started": "2022-11-09T00:25:11.409224Z"
    }
   },
   "outputs": [],
   "source": [
    "def mutual_informations(series):\n",
    "    return mutual_info_score(df_used.stroke,series)"
   ]
  },
  {
   "cell_type": "code",
   "execution_count": 17,
   "metadata": {
    "execution": {
     "iopub.execute_input": "2022-11-09T00:25:29.588429Z",
     "iopub.status.busy": "2022-11-09T00:25:29.587983Z",
     "iopub.status.idle": "2022-11-09T00:25:29.596212Z",
     "shell.execute_reply": "2022-11-09T00:25:29.594713Z",
     "shell.execute_reply.started": "2022-11-09T00:25:29.588393Z"
    }
   },
   "outputs": [
    {
     "name": "stdout",
     "output_type": "stream",
     "text": [
      "0.048728\n"
     ]
    }
   ],
   "source": [
    "global_stroke_rate=round(df_used.stroke.mean(),6)\n",
    "\n",
    "print(global_stroke_rate)"
   ]
  },
  {
   "cell_type": "markdown",
   "metadata": {
    "execution": {
     "iopub.execute_input": "2022-11-09T01:00:28.170250Z",
     "iopub.status.busy": "2022-11-09T01:00:28.169744Z",
     "iopub.status.idle": "2022-11-09T01:00:28.176420Z",
     "shell.execute_reply": "2022-11-09T01:00:28.174937Z",
     "shell.execute_reply.started": "2022-11-09T01:00:28.170210Z"
    }
   },
   "source": [
    "### calculating the stroke risk for each group, and the risk ratio  "
   ]
  },
  {
   "cell_type": "code",
   "execution_count": 18,
   "metadata": {
    "execution": {
     "iopub.execute_input": "2022-11-09T00:25:45.040969Z",
     "iopub.status.busy": "2022-11-09T00:25:45.040547Z",
     "iopub.status.idle": "2022-11-09T00:25:45.132033Z",
     "shell.execute_reply": "2022-11-09T00:25:45.130965Z",
     "shell.execute_reply.started": "2022-11-09T00:25:45.040934Z"
    }
   },
   "outputs": [
    {
     "name": "stdout",
     "output_type": "stream",
     "text": [
      "gender\n"
     ]
    },
    {
     "data": {
      "text/html": [
       "<div>\n",
       "<style scoped>\n",
       "    .dataframe tbody tr th:only-of-type {\n",
       "        vertical-align: middle;\n",
       "    }\n",
       "\n",
       "    .dataframe tbody tr th {\n",
       "        vertical-align: top;\n",
       "    }\n",
       "\n",
       "    .dataframe thead th {\n",
       "        text-align: right;\n",
       "    }\n",
       "</style>\n",
       "<table border=\"1\" class=\"dataframe\">\n",
       "  <thead>\n",
       "    <tr style=\"text-align: right;\">\n",
       "      <th></th>\n",
       "      <th>count</th>\n",
       "      <th>mean</th>\n",
       "      <th>diff</th>\n",
       "      <th>risk_ratio</th>\n",
       "    </tr>\n",
       "    <tr>\n",
       "      <th>gender</th>\n",
       "      <th></th>\n",
       "      <th></th>\n",
       "      <th></th>\n",
       "      <th></th>\n",
       "    </tr>\n",
       "  </thead>\n",
       "  <tbody>\n",
       "    <tr>\n",
       "      <th>Female</th>\n",
       "      <td>2994</td>\n",
       "      <td>0.047094</td>\n",
       "      <td>-0.001634</td>\n",
       "      <td>0.966471</td>\n",
       "    </tr>\n",
       "    <tr>\n",
       "      <th>Male</th>\n",
       "      <td>2115</td>\n",
       "      <td>0.051064</td>\n",
       "      <td>0.002336</td>\n",
       "      <td>1.047936</td>\n",
       "    </tr>\n",
       "    <tr>\n",
       "      <th>Other</th>\n",
       "      <td>1</td>\n",
       "      <td>0.000000</td>\n",
       "      <td>-0.048728</td>\n",
       "      <td>0.000000</td>\n",
       "    </tr>\n",
       "  </tbody>\n",
       "</table>\n",
       "</div>"
      ],
      "text/plain": [
       "        count      mean      diff  risk_ratio\n",
       "gender                                       \n",
       "Female   2994  0.047094 -0.001634    0.966471\n",
       "Male     2115  0.051064  0.002336    1.047936\n",
       "Other       1  0.000000 -0.048728    0.000000"
      ]
     },
     "metadata": {},
     "output_type": "display_data"
    },
    {
     "name": "stdout",
     "output_type": "stream",
     "text": [
      "\n",
      "\n",
      "hypertension\n"
     ]
    },
    {
     "data": {
      "text/html": [
       "<div>\n",
       "<style scoped>\n",
       "    .dataframe tbody tr th:only-of-type {\n",
       "        vertical-align: middle;\n",
       "    }\n",
       "\n",
       "    .dataframe tbody tr th {\n",
       "        vertical-align: top;\n",
       "    }\n",
       "\n",
       "    .dataframe thead th {\n",
       "        text-align: right;\n",
       "    }\n",
       "</style>\n",
       "<table border=\"1\" class=\"dataframe\">\n",
       "  <thead>\n",
       "    <tr style=\"text-align: right;\">\n",
       "      <th></th>\n",
       "      <th>count</th>\n",
       "      <th>mean</th>\n",
       "      <th>diff</th>\n",
       "      <th>risk_ratio</th>\n",
       "    </tr>\n",
       "    <tr>\n",
       "      <th>hypertension</th>\n",
       "      <th></th>\n",
       "      <th></th>\n",
       "      <th></th>\n",
       "      <th></th>\n",
       "    </tr>\n",
       "  </thead>\n",
       "  <tbody>\n",
       "    <tr>\n",
       "      <th>no</th>\n",
       "      <td>4612</td>\n",
       "      <td>0.039679</td>\n",
       "      <td>-0.009049</td>\n",
       "      <td>0.814298</td>\n",
       "    </tr>\n",
       "    <tr>\n",
       "      <th>yes</th>\n",
       "      <td>498</td>\n",
       "      <td>0.132530</td>\n",
       "      <td>0.083802</td>\n",
       "      <td>2.719794</td>\n",
       "    </tr>\n",
       "  </tbody>\n",
       "</table>\n",
       "</div>"
      ],
      "text/plain": [
       "              count      mean      diff  risk_ratio\n",
       "hypertension                                       \n",
       "no             4612  0.039679 -0.009049    0.814298\n",
       "yes             498  0.132530  0.083802    2.719794"
      ]
     },
     "metadata": {},
     "output_type": "display_data"
    },
    {
     "name": "stdout",
     "output_type": "stream",
     "text": [
      "\n",
      "\n",
      "heart_disease\n"
     ]
    },
    {
     "data": {
      "text/html": [
       "<div>\n",
       "<style scoped>\n",
       "    .dataframe tbody tr th:only-of-type {\n",
       "        vertical-align: middle;\n",
       "    }\n",
       "\n",
       "    .dataframe tbody tr th {\n",
       "        vertical-align: top;\n",
       "    }\n",
       "\n",
       "    .dataframe thead th {\n",
       "        text-align: right;\n",
       "    }\n",
       "</style>\n",
       "<table border=\"1\" class=\"dataframe\">\n",
       "  <thead>\n",
       "    <tr style=\"text-align: right;\">\n",
       "      <th></th>\n",
       "      <th>count</th>\n",
       "      <th>mean</th>\n",
       "      <th>diff</th>\n",
       "      <th>risk_ratio</th>\n",
       "    </tr>\n",
       "    <tr>\n",
       "      <th>heart_disease</th>\n",
       "      <th></th>\n",
       "      <th></th>\n",
       "      <th></th>\n",
       "      <th></th>\n",
       "    </tr>\n",
       "  </thead>\n",
       "  <tbody>\n",
       "    <tr>\n",
       "      <th>no</th>\n",
       "      <td>4834</td>\n",
       "      <td>0.041787</td>\n",
       "      <td>-0.006941</td>\n",
       "      <td>0.857563</td>\n",
       "    </tr>\n",
       "    <tr>\n",
       "      <th>yes</th>\n",
       "      <td>276</td>\n",
       "      <td>0.170290</td>\n",
       "      <td>0.121562</td>\n",
       "      <td>3.494702</td>\n",
       "    </tr>\n",
       "  </tbody>\n",
       "</table>\n",
       "</div>"
      ],
      "text/plain": [
       "               count      mean      diff  risk_ratio\n",
       "heart_disease                                       \n",
       "no              4834  0.041787 -0.006941    0.857563\n",
       "yes              276  0.170290  0.121562    3.494702"
      ]
     },
     "metadata": {},
     "output_type": "display_data"
    },
    {
     "name": "stdout",
     "output_type": "stream",
     "text": [
      "\n",
      "\n",
      "ever_married\n"
     ]
    },
    {
     "data": {
      "text/html": [
       "<div>\n",
       "<style scoped>\n",
       "    .dataframe tbody tr th:only-of-type {\n",
       "        vertical-align: middle;\n",
       "    }\n",
       "\n",
       "    .dataframe tbody tr th {\n",
       "        vertical-align: top;\n",
       "    }\n",
       "\n",
       "    .dataframe thead th {\n",
       "        text-align: right;\n",
       "    }\n",
       "</style>\n",
       "<table border=\"1\" class=\"dataframe\">\n",
       "  <thead>\n",
       "    <tr style=\"text-align: right;\">\n",
       "      <th></th>\n",
       "      <th>count</th>\n",
       "      <th>mean</th>\n",
       "      <th>diff</th>\n",
       "      <th>risk_ratio</th>\n",
       "    </tr>\n",
       "    <tr>\n",
       "      <th>ever_married</th>\n",
       "      <th></th>\n",
       "      <th></th>\n",
       "      <th></th>\n",
       "      <th></th>\n",
       "    </tr>\n",
       "  </thead>\n",
       "  <tbody>\n",
       "    <tr>\n",
       "      <th>No</th>\n",
       "      <td>1757</td>\n",
       "      <td>0.016505</td>\n",
       "      <td>-0.032223</td>\n",
       "      <td>0.338725</td>\n",
       "    </tr>\n",
       "    <tr>\n",
       "      <th>Yes</th>\n",
       "      <td>3353</td>\n",
       "      <td>0.065613</td>\n",
       "      <td>0.016885</td>\n",
       "      <td>1.346513</td>\n",
       "    </tr>\n",
       "  </tbody>\n",
       "</table>\n",
       "</div>"
      ],
      "text/plain": [
       "              count      mean      diff  risk_ratio\n",
       "ever_married                                       \n",
       "No             1757  0.016505 -0.032223    0.338725\n",
       "Yes            3353  0.065613  0.016885    1.346513"
      ]
     },
     "metadata": {},
     "output_type": "display_data"
    },
    {
     "name": "stdout",
     "output_type": "stream",
     "text": [
      "\n",
      "\n",
      "work_type\n"
     ]
    },
    {
     "data": {
      "text/html": [
       "<div>\n",
       "<style scoped>\n",
       "    .dataframe tbody tr th:only-of-type {\n",
       "        vertical-align: middle;\n",
       "    }\n",
       "\n",
       "    .dataframe tbody tr th {\n",
       "        vertical-align: top;\n",
       "    }\n",
       "\n",
       "    .dataframe thead th {\n",
       "        text-align: right;\n",
       "    }\n",
       "</style>\n",
       "<table border=\"1\" class=\"dataframe\">\n",
       "  <thead>\n",
       "    <tr style=\"text-align: right;\">\n",
       "      <th></th>\n",
       "      <th>count</th>\n",
       "      <th>mean</th>\n",
       "      <th>diff</th>\n",
       "      <th>risk_ratio</th>\n",
       "    </tr>\n",
       "    <tr>\n",
       "      <th>work_type</th>\n",
       "      <th></th>\n",
       "      <th></th>\n",
       "      <th></th>\n",
       "      <th></th>\n",
       "    </tr>\n",
       "  </thead>\n",
       "  <tbody>\n",
       "    <tr>\n",
       "      <th>Govt_job</th>\n",
       "      <td>657</td>\n",
       "      <td>0.050228</td>\n",
       "      <td>0.001500</td>\n",
       "      <td>1.030789</td>\n",
       "    </tr>\n",
       "    <tr>\n",
       "      <th>Never_worked</th>\n",
       "      <td>22</td>\n",
       "      <td>0.000000</td>\n",
       "      <td>-0.048728</td>\n",
       "      <td>0.000000</td>\n",
       "    </tr>\n",
       "    <tr>\n",
       "      <th>Private</th>\n",
       "      <td>2925</td>\n",
       "      <td>0.050940</td>\n",
       "      <td>0.002212</td>\n",
       "      <td>1.045398</td>\n",
       "    </tr>\n",
       "    <tr>\n",
       "      <th>Self-employed</th>\n",
       "      <td>819</td>\n",
       "      <td>0.079365</td>\n",
       "      <td>0.030637</td>\n",
       "      <td>1.628737</td>\n",
       "    </tr>\n",
       "    <tr>\n",
       "      <th>children</th>\n",
       "      <td>687</td>\n",
       "      <td>0.002911</td>\n",
       "      <td>-0.045817</td>\n",
       "      <td>0.059744</td>\n",
       "    </tr>\n",
       "  </tbody>\n",
       "</table>\n",
       "</div>"
      ],
      "text/plain": [
       "               count      mean      diff  risk_ratio\n",
       "work_type                                           \n",
       "Govt_job         657  0.050228  0.001500    1.030789\n",
       "Never_worked      22  0.000000 -0.048728    0.000000\n",
       "Private         2925  0.050940  0.002212    1.045398\n",
       "Self-employed    819  0.079365  0.030637    1.628737\n",
       "children         687  0.002911 -0.045817    0.059744"
      ]
     },
     "metadata": {},
     "output_type": "display_data"
    },
    {
     "name": "stdout",
     "output_type": "stream",
     "text": [
      "\n",
      "\n",
      "residence_type\n"
     ]
    },
    {
     "data": {
      "text/html": [
       "<div>\n",
       "<style scoped>\n",
       "    .dataframe tbody tr th:only-of-type {\n",
       "        vertical-align: middle;\n",
       "    }\n",
       "\n",
       "    .dataframe tbody tr th {\n",
       "        vertical-align: top;\n",
       "    }\n",
       "\n",
       "    .dataframe thead th {\n",
       "        text-align: right;\n",
       "    }\n",
       "</style>\n",
       "<table border=\"1\" class=\"dataframe\">\n",
       "  <thead>\n",
       "    <tr style=\"text-align: right;\">\n",
       "      <th></th>\n",
       "      <th>count</th>\n",
       "      <th>mean</th>\n",
       "      <th>diff</th>\n",
       "      <th>risk_ratio</th>\n",
       "    </tr>\n",
       "    <tr>\n",
       "      <th>residence_type</th>\n",
       "      <th></th>\n",
       "      <th></th>\n",
       "      <th></th>\n",
       "      <th></th>\n",
       "    </tr>\n",
       "  </thead>\n",
       "  <tbody>\n",
       "    <tr>\n",
       "      <th>Rural</th>\n",
       "      <td>2514</td>\n",
       "      <td>0.045346</td>\n",
       "      <td>-0.003382</td>\n",
       "      <td>0.930596</td>\n",
       "    </tr>\n",
       "    <tr>\n",
       "      <th>Urban</th>\n",
       "      <td>2596</td>\n",
       "      <td>0.052003</td>\n",
       "      <td>0.003275</td>\n",
       "      <td>1.067211</td>\n",
       "    </tr>\n",
       "  </tbody>\n",
       "</table>\n",
       "</div>"
      ],
      "text/plain": [
       "                count      mean      diff  risk_ratio\n",
       "residence_type                                       \n",
       "Rural            2514  0.045346 -0.003382    0.930596\n",
       "Urban            2596  0.052003  0.003275    1.067211"
      ]
     },
     "metadata": {},
     "output_type": "display_data"
    },
    {
     "name": "stdout",
     "output_type": "stream",
     "text": [
      "\n",
      "\n",
      "smoking_status\n"
     ]
    },
    {
     "data": {
      "text/html": [
       "<div>\n",
       "<style scoped>\n",
       "    .dataframe tbody tr th:only-of-type {\n",
       "        vertical-align: middle;\n",
       "    }\n",
       "\n",
       "    .dataframe tbody tr th {\n",
       "        vertical-align: top;\n",
       "    }\n",
       "\n",
       "    .dataframe thead th {\n",
       "        text-align: right;\n",
       "    }\n",
       "</style>\n",
       "<table border=\"1\" class=\"dataframe\">\n",
       "  <thead>\n",
       "    <tr style=\"text-align: right;\">\n",
       "      <th></th>\n",
       "      <th>count</th>\n",
       "      <th>mean</th>\n",
       "      <th>diff</th>\n",
       "      <th>risk_ratio</th>\n",
       "    </tr>\n",
       "    <tr>\n",
       "      <th>smoking_status</th>\n",
       "      <th></th>\n",
       "      <th></th>\n",
       "      <th></th>\n",
       "      <th></th>\n",
       "    </tr>\n",
       "  </thead>\n",
       "  <tbody>\n",
       "    <tr>\n",
       "      <th>Unknown</th>\n",
       "      <td>1544</td>\n",
       "      <td>0.030440</td>\n",
       "      <td>-0.018288</td>\n",
       "      <td>0.624701</td>\n",
       "    </tr>\n",
       "    <tr>\n",
       "      <th>formerly smoked</th>\n",
       "      <td>885</td>\n",
       "      <td>0.079096</td>\n",
       "      <td>0.030368</td>\n",
       "      <td>1.623216</td>\n",
       "    </tr>\n",
       "    <tr>\n",
       "      <th>never smoked</th>\n",
       "      <td>1892</td>\n",
       "      <td>0.047569</td>\n",
       "      <td>-0.001159</td>\n",
       "      <td>0.976209</td>\n",
       "    </tr>\n",
       "    <tr>\n",
       "      <th>smokes</th>\n",
       "      <td>789</td>\n",
       "      <td>0.053232</td>\n",
       "      <td>0.004504</td>\n",
       "      <td>1.092430</td>\n",
       "    </tr>\n",
       "  </tbody>\n",
       "</table>\n",
       "</div>"
      ],
      "text/plain": [
       "                 count      mean      diff  risk_ratio\n",
       "smoking_status                                        \n",
       "Unknown           1544  0.030440 -0.018288    0.624701\n",
       "formerly smoked    885  0.079096  0.030368    1.623216\n",
       "never smoked      1892  0.047569 -0.001159    0.976209\n",
       "smokes             789  0.053232  0.004504    1.092430"
      ]
     },
     "metadata": {},
     "output_type": "display_data"
    },
    {
     "name": "stdout",
     "output_type": "stream",
     "text": [
      "\n",
      "\n"
     ]
    }
   ],
   "source": [
    "from IPython.display import display\n",
    "\n",
    "for c in categorical: \n",
    "    print(c)\n",
    "    \n",
    "    df_group = df_used.groupby(by= c).stroke.agg(['count', 'mean'])\n",
    "\n",
    "    df_group['diff']= df_group['mean']- global_stroke_rate\n",
    "\n",
    "    df_group['risk_ratio']= df_group['mean']/global_stroke_rate\n",
    "    \n",
    "    display(df_group)\n",
    "    \n",
    "    print()\n",
    "    print()"
   ]
  },
  {
   "cell_type": "markdown",
   "metadata": {},
   "source": [
    "### calculating the mutual_information"
   ]
  },
  {
   "cell_type": "code",
   "execution_count": 19,
   "metadata": {
    "execution": {
     "iopub.execute_input": "2022-11-09T00:26:10.393210Z",
     "iopub.status.busy": "2022-11-09T00:26:10.392689Z",
     "iopub.status.idle": "2022-11-09T00:26:10.454316Z",
     "shell.execute_reply": "2022-11-09T00:26:10.453429Z",
     "shell.execute_reply.started": "2022-11-09T00:26:10.393162Z"
    }
   },
   "outputs": [
    {
     "data": {
      "text/plain": [
       "ever_married      0.006950\n",
       "work_type         0.006825\n",
       "hypertension      0.005976\n",
       "heart_disease     0.005897\n",
       "smoking_status    0.002750\n",
       "residence_type    0.000120\n",
       "gender            0.000051\n",
       "dtype: float64"
      ]
     },
     "execution_count": 19,
     "metadata": {},
     "output_type": "execute_result"
    }
   ],
   "source": [
    "mi_categorical_columns= df_used[categorical].apply(mutual_informations)\n",
    "    \n",
    "mi_categorical_columns.sort_values(ascending=False)"
   ]
  },
  {
   "cell_type": "markdown",
   "metadata": {},
   "source": [
    "## EDA for numerical features"
   ]
  },
  {
   "cell_type": "code",
   "execution_count": 20,
   "metadata": {
    "execution": {
     "iopub.execute_input": "2022-11-09T00:27:55.515551Z",
     "iopub.status.busy": "2022-11-09T00:27:55.514119Z",
     "iopub.status.idle": "2022-11-09T00:27:55.521719Z",
     "shell.execute_reply": "2022-11-09T00:27:55.520556Z",
     "shell.execute_reply.started": "2022-11-09T00:27:55.515490Z"
    }
   },
   "outputs": [],
   "source": [
    "numerical=['age','avg_glucose_level','bmi']"
   ]
  },
  {
   "cell_type": "markdown",
   "metadata": {},
   "source": [
    "### Checking for nan values"
   ]
  },
  {
   "cell_type": "code",
   "execution_count": 21,
   "metadata": {
    "execution": {
     "iopub.execute_input": "2022-11-09T00:27:57.406279Z",
     "iopub.status.busy": "2022-11-09T00:27:57.405435Z",
     "iopub.status.idle": "2022-11-09T00:27:57.430668Z",
     "shell.execute_reply": "2022-11-09T00:27:57.428894Z",
     "shell.execute_reply.started": "2022-11-09T00:27:57.406217Z"
    }
   },
   "outputs": [
    {
     "name": "stdout",
     "output_type": "stream",
     "text": [
      "age\n",
      "Empty DataFrame\n",
      "Columns: [id, gender, age, hypertension, heart_disease, ever_married, work_type, residence_type, avg_glucose_level, bmi, smoking_status, stroke]\n",
      "Index: []\n",
      "------------------\n",
      "\n",
      "avg_glucose_level\n",
      "Empty DataFrame\n",
      "Columns: [id, gender, age, hypertension, heart_disease, ever_married, work_type, residence_type, avg_glucose_level, bmi, smoking_status, stroke]\n",
      "Index: []\n",
      "------------------\n",
      "\n",
      "bmi\n",
      "         id  gender   age hypertension heart_disease ever_married  \\\n",
      "1     51676  Female  61.0           no            no          Yes   \n",
      "8     27419  Female  59.0           no            no          Yes   \n",
      "13     8213    Male  78.0           no           yes          Yes   \n",
      "19    25226    Male  57.0           no           yes           No   \n",
      "27    61843    Male  58.0           no            no          Yes   \n",
      "...     ...     ...   ...          ...           ...          ...   \n",
      "5039  42007    Male  41.0           no            no           No   \n",
      "5048  28788    Male  40.0           no            no          Yes   \n",
      "5093  32235  Female  45.0          yes            no          Yes   \n",
      "5099   7293    Male  40.0           no            no          Yes   \n",
      "5105  18234  Female  80.0          yes            no          Yes   \n",
      "\n",
      "          work_type residence_type  avg_glucose_level  bmi   smoking_status  \\\n",
      "1     Self-employed          Rural             202.21  NaN     never smoked   \n",
      "8           Private          Rural              76.15  NaN          Unknown   \n",
      "13          Private          Urban             219.84  NaN          Unknown   \n",
      "19         Govt_job          Urban             217.08  NaN          Unknown   \n",
      "27          Private          Rural             189.84  NaN          Unknown   \n",
      "...             ...            ...                ...  ...              ...   \n",
      "5039        Private          Rural              70.15  NaN  formerly smoked   \n",
      "5048        Private          Urban             191.15  NaN           smokes   \n",
      "5093       Govt_job          Rural              95.02  NaN           smokes   \n",
      "5099        Private          Rural              83.94  NaN           smokes   \n",
      "5105        Private          Urban              83.75  NaN     never smoked   \n",
      "\n",
      "     stroke  \n",
      "1       yes  \n",
      "8       yes  \n",
      "13      yes  \n",
      "19      yes  \n",
      "27      yes  \n",
      "...     ...  \n",
      "5039     no  \n",
      "5048     no  \n",
      "5093     no  \n",
      "5099     no  \n",
      "5105     no  \n",
      "\n",
      "[201 rows x 12 columns]\n",
      "------------------\n",
      "\n"
     ]
    }
   ],
   "source": [
    "for col in numerical:\n",
    "    print(col)\n",
    "    print(df[df[col].isnull()])\n",
    "    print('------------------')\n",
    "    print()"
   ]
  },
  {
   "cell_type": "markdown",
   "metadata": {},
   "source": [
    "### Calculate the co-relation"
   ]
  },
  {
   "cell_type": "code",
   "execution_count": 22,
   "metadata": {
    "execution": {
     "iopub.execute_input": "2022-11-09T00:28:08.396793Z",
     "iopub.status.busy": "2022-11-09T00:28:08.395719Z",
     "iopub.status.idle": "2022-11-09T00:28:08.410883Z",
     "shell.execute_reply": "2022-11-09T00:28:08.409479Z",
     "shell.execute_reply.started": "2022-11-09T00:28:08.396746Z"
    }
   },
   "outputs": [
    {
     "data": {
      "text/plain": [
       "age                  0.245257\n",
       "avg_glucose_level    0.131945\n",
       "bmi                  0.042374\n",
       "dtype: float64"
      ]
     },
     "execution_count": 22,
     "metadata": {},
     "output_type": "execute_result"
    }
   ],
   "source": [
    "df_used[numerical].corrwith(df_used.stroke)"
   ]
  },
  {
   "cell_type": "code",
   "execution_count": 23,
   "metadata": {
    "execution": {
     "iopub.execute_input": "2022-11-09T00:28:08.879083Z",
     "iopub.status.busy": "2022-11-09T00:28:08.878529Z",
     "iopub.status.idle": "2022-11-09T00:28:09.317080Z",
     "shell.execute_reply": "2022-11-09T00:28:09.315675Z",
     "shell.execute_reply.started": "2022-11-09T00:28:08.879028Z"
    }
   },
   "outputs": [
    {
     "data": {
      "text/plain": [
       "<AxesSubplot:>"
      ]
     },
     "execution_count": 23,
     "metadata": {},
     "output_type": "execute_result"
    },
    {
     "data": {
      "image/png": "[encoded data removed]",
      "text/plain": [
       "<Figure size 576x576 with 2 Axes>"
      ]
     },
     "metadata": {
      "needs_background": "light"
     },
     "output_type": "display_data"
    }
   ],
   "source": [
    "corr = df_used.corr()\n",
    "plt.figure(figsize=(8,8))\n",
    "sns.heatmap(corr,cbar=True,square=True,fmt='.6f',annot=True,cmap='Reds')"
   ]
  },
  {
   "cell_type": "markdown",
   "metadata": {},
   "source": [
    "### Chosen features"
   ]
  },
  {
   "cell_type": "code",
   "execution_count": 24,
   "metadata": {
    "execution": {
     "iopub.execute_input": "2022-11-09T00:28:16.208152Z",
     "iopub.status.busy": "2022-11-09T00:28:16.207684Z",
     "iopub.status.idle": "2022-11-09T00:28:16.214874Z",
     "shell.execute_reply": "2022-11-09T00:28:16.213666Z",
     "shell.execute_reply.started": "2022-11-09T00:28:16.208097Z"
    }
   },
   "outputs": [],
   "source": [
    "numerical_chosen=['age','avg_glucose_level']\n",
    "categorical_chosen=['hypertension','heart_disease','smoking_status']"
   ]
  },
  {
   "cell_type": "code",
   "execution_count": 25,
   "metadata": {
    "execution": {
     "iopub.execute_input": "2022-11-09T00:28:17.023612Z",
     "iopub.status.busy": "2022-11-09T00:28:17.022812Z",
     "iopub.status.idle": "2022-11-09T00:28:17.030447Z",
     "shell.execute_reply": "2022-11-09T00:28:17.028630Z",
     "shell.execute_reply.started": "2022-11-09T00:28:17.023570Z"
    }
   },
   "outputs": [],
   "source": [
    "del df_used['id']"
   ]
  },
  {
   "cell_type": "markdown",
   "metadata": {},
   "source": [
    "# Training,validation and testing steps"
   ]
  },
  {
   "cell_type": "markdown",
   "metadata": {},
   "source": [
    "### spliting our dataset"
   ]
  },
  {
   "cell_type": "code",
   "execution_count": 26,
   "metadata": {
    "execution": {
     "iopub.execute_input": "2022-11-09T00:28:22.012485Z",
     "iopub.status.busy": "2022-11-09T00:28:22.012017Z",
     "iopub.status.idle": "2022-11-09T00:28:22.025332Z",
     "shell.execute_reply": "2022-11-09T00:28:22.024009Z",
     "shell.execute_reply.started": "2022-11-09T00:28:22.012446Z"
    }
   },
   "outputs": [],
   "source": [
    "df_full_train, df_test= train_test_split(df_used, test_size= 0.2, random_state= 1 )"
   ]
  },
  {
   "cell_type": "code",
   "execution_count": 27,
   "metadata": {
    "execution": {
     "iopub.execute_input": "2022-11-09T00:28:30.791335Z",
     "iopub.status.busy": "2022-11-09T00:28:30.790849Z",
     "iopub.status.idle": "2022-11-09T00:28:30.801179Z",
     "shell.execute_reply": "2022-11-09T00:28:30.799797Z",
     "shell.execute_reply.started": "2022-11-09T00:28:30.791294Z"
    }
   },
   "outputs": [],
   "source": [
    "df_train, df_val= train_test_split(df_full_train, test_size= 0.25, random_state=1)"
   ]
  },
  {
   "cell_type": "code",
   "execution_count": 28,
   "metadata": {
    "execution": {
     "iopub.execute_input": "2022-11-09T00:28:34.040719Z",
     "iopub.status.busy": "2022-11-09T00:28:34.040299Z",
     "iopub.status.idle": "2022-11-09T00:28:34.047754Z",
     "shell.execute_reply": "2022-11-09T00:28:34.046588Z",
     "shell.execute_reply.started": "2022-11-09T00:28:34.040686Z"
    }
   },
   "outputs": [],
   "source": [
    "df_train= df_train.reset_index(drop= True)\n",
    "\n",
    "df_val= df_val.reset_index(drop=True)\n",
    "\n",
    "df_test=df_test.reset_index(drop=True)"
   ]
  },
  {
   "cell_type": "code",
   "execution_count": 29,
   "metadata": {
    "execution": {
     "iopub.execute_input": "2022-11-09T00:28:38.336541Z",
     "iopub.status.busy": "2022-11-09T00:28:38.336095Z",
     "iopub.status.idle": "2022-11-09T00:28:38.363068Z",
     "shell.execute_reply": "2022-11-09T00:28:38.361809Z",
     "shell.execute_reply.started": "2022-11-09T00:28:38.336507Z"
    }
   },
   "outputs": [
    {
     "data": {
      "text/html": [
       "<div>\n",
       "<style scoped>\n",
       "    .dataframe tbody tr th:only-of-type {\n",
       "        vertical-align: middle;\n",
       "    }\n",
       "\n",
       "    .dataframe tbody tr th {\n",
       "        vertical-align: top;\n",
       "    }\n",
       "\n",
       "    .dataframe thead th {\n",
       "        text-align: right;\n",
       "    }\n",
       "</style>\n",
       "<table border=\"1\" class=\"dataframe\">\n",
       "  <thead>\n",
       "    <tr style=\"text-align: right;\">\n",
       "      <th></th>\n",
       "      <th>gender</th>\n",
       "      <th>age</th>\n",
       "      <th>hypertension</th>\n",
       "      <th>heart_disease</th>\n",
       "      <th>ever_married</th>\n",
       "      <th>work_type</th>\n",
       "      <th>residence_type</th>\n",
       "      <th>avg_glucose_level</th>\n",
       "      <th>bmi</th>\n",
       "      <th>smoking_status</th>\n",
       "      <th>stroke</th>\n",
       "    </tr>\n",
       "  </thead>\n",
       "  <tbody>\n",
       "    <tr>\n",
       "      <th>0</th>\n",
       "      <td>Male</td>\n",
       "      <td>45.0</td>\n",
       "      <td>no</td>\n",
       "      <td>no</td>\n",
       "      <td>Yes</td>\n",
       "      <td>Private</td>\n",
       "      <td>Rural</td>\n",
       "      <td>65.48</td>\n",
       "      <td>26.6</td>\n",
       "      <td>Unknown</td>\n",
       "      <td>0</td>\n",
       "    </tr>\n",
       "    <tr>\n",
       "      <th>1</th>\n",
       "      <td>Male</td>\n",
       "      <td>39.0</td>\n",
       "      <td>no</td>\n",
       "      <td>no</td>\n",
       "      <td>Yes</td>\n",
       "      <td>Self-employed</td>\n",
       "      <td>Urban</td>\n",
       "      <td>74.29</td>\n",
       "      <td>29.3</td>\n",
       "      <td>smokes</td>\n",
       "      <td>0</td>\n",
       "    </tr>\n",
       "    <tr>\n",
       "      <th>2</th>\n",
       "      <td>Female</td>\n",
       "      <td>74.0</td>\n",
       "      <td>no</td>\n",
       "      <td>no</td>\n",
       "      <td>Yes</td>\n",
       "      <td>Govt_job</td>\n",
       "      <td>Urban</td>\n",
       "      <td>111.94</td>\n",
       "      <td>21.7</td>\n",
       "      <td>never smoked</td>\n",
       "      <td>0</td>\n",
       "    </tr>\n",
       "    <tr>\n",
       "      <th>3</th>\n",
       "      <td>Female</td>\n",
       "      <td>72.0</td>\n",
       "      <td>no</td>\n",
       "      <td>no</td>\n",
       "      <td>Yes</td>\n",
       "      <td>Self-employed</td>\n",
       "      <td>Urban</td>\n",
       "      <td>103.78</td>\n",
       "      <td>32.7</td>\n",
       "      <td>formerly smoked</td>\n",
       "      <td>0</td>\n",
       "    </tr>\n",
       "    <tr>\n",
       "      <th>4</th>\n",
       "      <td>Female</td>\n",
       "      <td>28.0</td>\n",
       "      <td>no</td>\n",
       "      <td>no</td>\n",
       "      <td>Yes</td>\n",
       "      <td>Private</td>\n",
       "      <td>Rural</td>\n",
       "      <td>64.64</td>\n",
       "      <td>22.1</td>\n",
       "      <td>never smoked</td>\n",
       "      <td>0</td>\n",
       "    </tr>\n",
       "    <tr>\n",
       "      <th>...</th>\n",
       "      <td>...</td>\n",
       "      <td>...</td>\n",
       "      <td>...</td>\n",
       "      <td>...</td>\n",
       "      <td>...</td>\n",
       "      <td>...</td>\n",
       "      <td>...</td>\n",
       "      <td>...</td>\n",
       "      <td>...</td>\n",
       "      <td>...</td>\n",
       "      <td>...</td>\n",
       "    </tr>\n",
       "    <tr>\n",
       "      <th>3061</th>\n",
       "      <td>Female</td>\n",
       "      <td>14.0</td>\n",
       "      <td>no</td>\n",
       "      <td>no</td>\n",
       "      <td>No</td>\n",
       "      <td>children</td>\n",
       "      <td>Urban</td>\n",
       "      <td>63.74</td>\n",
       "      <td>22.4</td>\n",
       "      <td>Unknown</td>\n",
       "      <td>0</td>\n",
       "    </tr>\n",
       "    <tr>\n",
       "      <th>3062</th>\n",
       "      <td>Female</td>\n",
       "      <td>81.0</td>\n",
       "      <td>yes</td>\n",
       "      <td>no</td>\n",
       "      <td>Yes</td>\n",
       "      <td>Private</td>\n",
       "      <td>Urban</td>\n",
       "      <td>58.71</td>\n",
       "      <td>34.5</td>\n",
       "      <td>never smoked</td>\n",
       "      <td>0</td>\n",
       "    </tr>\n",
       "    <tr>\n",
       "      <th>3063</th>\n",
       "      <td>Female</td>\n",
       "      <td>49.0</td>\n",
       "      <td>yes</td>\n",
       "      <td>no</td>\n",
       "      <td>Yes</td>\n",
       "      <td>Govt_job</td>\n",
       "      <td>Rural</td>\n",
       "      <td>63.16</td>\n",
       "      <td>23.3</td>\n",
       "      <td>formerly smoked</td>\n",
       "      <td>0</td>\n",
       "    </tr>\n",
       "    <tr>\n",
       "      <th>3064</th>\n",
       "      <td>Male</td>\n",
       "      <td>54.0</td>\n",
       "      <td>no</td>\n",
       "      <td>no</td>\n",
       "      <td>Yes</td>\n",
       "      <td>Private</td>\n",
       "      <td>Urban</td>\n",
       "      <td>65.69</td>\n",
       "      <td>21.4</td>\n",
       "      <td>never smoked</td>\n",
       "      <td>0</td>\n",
       "    </tr>\n",
       "    <tr>\n",
       "      <th>3065</th>\n",
       "      <td>Male</td>\n",
       "      <td>8.0</td>\n",
       "      <td>no</td>\n",
       "      <td>no</td>\n",
       "      <td>No</td>\n",
       "      <td>children</td>\n",
       "      <td>Rural</td>\n",
       "      <td>121.99</td>\n",
       "      <td>19.6</td>\n",
       "      <td>Unknown</td>\n",
       "      <td>0</td>\n",
       "    </tr>\n",
       "  </tbody>\n",
       "</table>\n",
       "<p>3066 rows × 11 columns</p>\n",
       "</div>"
      ],
      "text/plain": [
       "      gender   age hypertension heart_disease ever_married      work_type  \\\n",
       "0       Male  45.0           no            no          Yes        Private   \n",
       "1       Male  39.0           no            no          Yes  Self-employed   \n",
       "2     Female  74.0           no            no          Yes       Govt_job   \n",
       "3     Female  72.0           no            no          Yes  Self-employed   \n",
       "4     Female  28.0           no            no          Yes        Private   \n",
       "...      ...   ...          ...           ...          ...            ...   \n",
       "3061  Female  14.0           no            no           No       children   \n",
       "3062  Female  81.0          yes            no          Yes        Private   \n",
       "3063  Female  49.0          yes            no          Yes       Govt_job   \n",
       "3064    Male  54.0           no            no          Yes        Private   \n",
       "3065    Male   8.0           no            no           No       children   \n",
       "\n",
       "     residence_type  avg_glucose_level   bmi   smoking_status  stroke  \n",
       "0             Rural              65.48  26.6          Unknown       0  \n",
       "1             Urban              74.29  29.3           smokes       0  \n",
       "2             Urban             111.94  21.7     never smoked       0  \n",
       "3             Urban             103.78  32.7  formerly smoked       0  \n",
       "4             Rural              64.64  22.1     never smoked       0  \n",
       "...             ...                ...   ...              ...     ...  \n",
       "3061          Urban              63.74  22.4          Unknown       0  \n",
       "3062          Urban              58.71  34.5     never smoked       0  \n",
       "3063          Rural              63.16  23.3  formerly smoked       0  \n",
       "3064          Urban              65.69  21.4     never smoked       0  \n",
       "3065          Rural             121.99  19.6          Unknown       0  \n",
       "\n",
       "[3066 rows x 11 columns]"
      ]
     },
     "execution_count": 29,
     "metadata": {},
     "output_type": "execute_result"
    }
   ],
   "source": [
    "df_train"
   ]
  },
  {
   "cell_type": "code",
   "execution_count": 30,
   "metadata": {
    "execution": {
     "iopub.execute_input": "2022-11-09T00:28:40.045437Z",
     "iopub.status.busy": "2022-11-09T00:28:40.043841Z",
     "iopub.status.idle": "2022-11-09T00:28:40.054164Z",
     "shell.execute_reply": "2022-11-09T00:28:40.052345Z",
     "shell.execute_reply.started": "2022-11-09T00:28:40.045370Z"
    }
   },
   "outputs": [],
   "source": [
    "y_train=df_train.stroke.values\n",
    "y_val=df_val.stroke.values\n",
    "y_test=df_test.stroke.values\n"
   ]
  },
  {
   "cell_type": "code",
   "execution_count": 31,
   "metadata": {
    "execution": {
     "iopub.execute_input": "2022-11-09T00:28:42.493155Z",
     "iopub.status.busy": "2022-11-09T00:28:42.492709Z",
     "iopub.status.idle": "2022-11-09T00:28:42.500459Z",
     "shell.execute_reply": "2022-11-09T00:28:42.499182Z",
     "shell.execute_reply.started": "2022-11-09T00:28:42.493102Z"
    }
   },
   "outputs": [],
   "source": [
    "del df_train['stroke']\n",
    "del df_test['stroke']\n",
    "del df_val['stroke']"
   ]
  },
  {
   "cell_type": "markdown",
   "metadata": {},
   "source": [
    "### functions for extracting features\n"
   ]
  },
  {
   "cell_type": "code",
   "execution_count": 32,
   "metadata": {},
   "outputs": [],
   "source": [
    "def train_feat_extr(df):\n",
    "    dicts_train = df[categorical_chosen+numerical_chosen].to_dict(orient='records')\n",
    "    dv= DictVectorizer(sparse=False)\n",
    "    X_train= dv.fit_transform(dicts_train)\n",
    "    y_train= df.stroke.values\n",
    "    \n",
    "    return X_train, y_train,dv\n",
    "\n",
    "def pred_feat_etr(df,dv):\n",
    "    dicts_val = df[categorical_chosen+numerical_chosen].to_dict(orient='records')\n",
    "    X_val= dv.transform(dicts_val)\n",
    "    \n",
    "    return X_val"
   ]
  },
  {
   "cell_type": "markdown",
   "metadata": {},
   "source": [
    "### Random forest "
   ]
  },
  {
   "cell_type": "code",
   "execution_count": 33,
   "metadata": {
    "execution": {
     "iopub.execute_input": "2022-11-09T00:28:51.495840Z",
     "iopub.status.busy": "2022-11-09T00:28:51.495385Z",
     "iopub.status.idle": "2022-11-09T00:28:51.763777Z",
     "shell.execute_reply": "2022-11-09T00:28:51.762657Z",
     "shell.execute_reply.started": "2022-11-09T00:28:51.495804Z"
    }
   },
   "outputs": [],
   "source": [
    "from sklearn.ensemble import RandomForestClassifier\n",
    "from sklearn.feature_extraction import DictVectorizer\n",
    "from sklearn.metrics import roc_auc_score"
   ]
  },
  {
   "cell_type": "code",
   "execution_count": 34,
   "metadata": {
    "execution": {
     "iopub.execute_input": "2022-11-06T16:12:45.174305Z",
     "iopub.status.busy": "2022-11-06T16:12:45.173825Z",
     "iopub.status.idle": "2022-11-06T16:12:45.183747Z",
     "shell.execute_reply": "2022-11-06T16:12:45.182539Z",
     "shell.execute_reply.started": "2022-11-06T16:12:45.174265Z"
    }
   },
   "outputs": [
    {
     "data": {
      "text/plain": [
       "gender                object\n",
       "age                  float64\n",
       "hypertension          object\n",
       "heart_disease         object\n",
       "ever_married          object\n",
       "work_type             object\n",
       "residence_type        object\n",
       "avg_glucose_level    float64\n",
       "bmi                  float64\n",
       "smoking_status        object\n",
       "dtype: object"
      ]
     },
     "execution_count": 34,
     "metadata": {},
     "output_type": "execute_result"
    }
   ],
   "source": [
    "df_train.dtypes"
   ]
  },
  {
   "cell_type": "code",
   "execution_count": 35,
   "metadata": {
    "execution": {
     "iopub.execute_input": "2022-11-06T16:12:48.599992Z",
     "iopub.status.busy": "2022-11-06T16:12:48.598936Z",
     "iopub.status.idle": "2022-11-06T16:12:48.646031Z",
     "shell.execute_reply": "2022-11-06T16:12:48.645041Z",
     "shell.execute_reply.started": "2022-11-06T16:12:48.599952Z"
    }
   },
   "outputs": [],
   "source": [
    "dict_train=df_train[numerical_chosen+categorical_chosen].to_dict(orient='records')\n",
    "dict_val=df_val[numerical_chosen+categorical_chosen].to_dict(orient='records')\n",
    "dict_test=df_test[numerical_chosen+categorical_chosen].to_dict(orient='records')"
   ]
  },
  {
   "cell_type": "code",
   "execution_count": 36,
   "metadata": {
    "execution": {
     "iopub.execute_input": "2022-11-06T16:12:53.374973Z",
     "iopub.status.busy": "2022-11-06T16:12:53.374234Z",
     "iopub.status.idle": "2022-11-06T16:12:53.414078Z",
     "shell.execute_reply": "2022-11-06T16:12:53.413226Z",
     "shell.execute_reply.started": "2022-11-06T16:12:53.374928Z"
    }
   },
   "outputs": [],
   "source": [
    "dv=DictVectorizer(sparse=False)\n",
    "x_train=dv.fit_transform(dict_train)\n",
    "x_val=dv.transform(dict_val)\n",
    "x_test=dv.transform(dict_test)"
   ]
  },
  {
   "cell_type": "markdown",
   "metadata": {},
   "source": [
    "### Cross-validation"
   ]
  },
  {
   "cell_type": "code",
   "execution_count": 37,
   "metadata": {
    "execution": {
     "iopub.execute_input": "2022-11-09T00:29:39.077906Z",
     "iopub.status.busy": "2022-11-09T00:29:39.077458Z",
     "iopub.status.idle": "2022-11-09T00:29:39.083847Z",
     "shell.execute_reply": "2022-11-09T00:29:39.082361Z",
     "shell.execute_reply.started": "2022-11-09T00:29:39.077866Z"
    }
   },
   "outputs": [],
   "source": [
    "from sklearn.model_selection import KFold"
   ]
  },
  {
   "cell_type": "code",
   "execution_count": 38,
   "metadata": {
    "execution": {
     "iopub.execute_input": "2022-11-09T00:30:16.861529Z",
     "iopub.status.busy": "2022-11-09T00:30:16.861080Z",
     "iopub.status.idle": "2022-11-09T00:30:19.042010Z",
     "shell.execute_reply": "2022-11-09T00:30:19.038655Z",
     "shell.execute_reply.started": "2022-11-09T00:30:16.861492Z"
    }
   },
   "outputs": [
    {
     "name": "stdout",
     "output_type": "stream",
     "text": [
      "mean: 0.762 & std : 0.000 \n",
      "mean: 0.738 & std : 0.024 \n",
      "mean: 0.756 & std : 0.032 \n",
      "mean: 0.739 & std : 0.040 \n",
      "mean: 0.743 & std : 0.036 \n"
     ]
    }
   ],
   "source": [
    "kfold = KFold(n_splits=5, shuffle=True, random_state=1)\n",
    "\n",
    "rf_auc_scores= []\n",
    "\n",
    "for train_idx, val_idx in kfold.split(df_full_train):\n",
    "    df_trainrf = df_full_train.iloc[train_idx]\n",
    "    \n",
    "    df_valrf= df_full_train.iloc[val_idx]\n",
    "    x_trainrf, y_trainrf, dvrf= train_feat_extr(df_trainrf)\n",
    "    y_valrf= df_valrf.stroke.values\n",
    "    x_valrf= pred_feat_etr(df_valrf, dvrf)\n",
    "    modelrf = RandomForestClassifier(n_estimators=100)\n",
    "    modelrf.fit(x_trainrf, y_trainrf)\n",
    "    y_predrf = modelrf.predict_proba(x_valrf)[:, 1]\n",
    "    aucrf = roc_auc_score(y_valrf,y_predrf)\n",
    "    \n",
    "    rf_auc_scores.append(aucrf)\n",
    "    \n",
    "    print(\"mean: %.3f & std : %.3f \" %(np.mean(rf_auc_scores),np.std(rf_auc_scores)))"
   ]
  },
  {
   "cell_type": "markdown",
   "metadata": {},
   "source": [
    "### Logistic regression "
   ]
  },
  {
   "cell_type": "code",
   "execution_count": 39,
   "metadata": {
    "execution": {
     "iopub.execute_input": "2022-11-09T00:31:19.539458Z",
     "iopub.status.busy": "2022-11-09T00:31:19.539003Z",
     "iopub.status.idle": "2022-11-09T00:31:19.546680Z",
     "shell.execute_reply": "2022-11-09T00:31:19.545438Z",
     "shell.execute_reply.started": "2022-11-09T00:31:19.539423Z"
    }
   },
   "outputs": [],
   "source": [
    "from sklearn.linear_model import LogisticRegression"
   ]
  },
  {
   "cell_type": "code",
   "execution_count": 40,
   "metadata": {
    "execution": {
     "iopub.execute_input": "2022-11-06T16:13:31.406469Z",
     "iopub.status.busy": "2022-11-06T16:13:31.405906Z",
     "iopub.status.idle": "2022-11-06T16:13:31.443179Z",
     "shell.execute_reply": "2022-11-06T16:13:31.441737Z",
     "shell.execute_reply.started": "2022-11-06T16:13:31.406421Z"
    }
   },
   "outputs": [
    {
     "data": {
      "text/html": [
       "<div>\n",
       "<style scoped>\n",
       "    .dataframe tbody tr th:only-of-type {\n",
       "        vertical-align: middle;\n",
       "    }\n",
       "\n",
       "    .dataframe tbody tr th {\n",
       "        vertical-align: top;\n",
       "    }\n",
       "\n",
       "    .dataframe thead th {\n",
       "        text-align: right;\n",
       "    }\n",
       "</style>\n",
       "<table border=\"1\" class=\"dataframe\">\n",
       "  <thead>\n",
       "    <tr style=\"text-align: right;\">\n",
       "      <th></th>\n",
       "      <th>gender</th>\n",
       "      <th>age</th>\n",
       "      <th>hypertension</th>\n",
       "      <th>heart_disease</th>\n",
       "      <th>ever_married</th>\n",
       "      <th>work_type</th>\n",
       "      <th>residence_type</th>\n",
       "      <th>avg_glucose_level</th>\n",
       "      <th>bmi</th>\n",
       "      <th>smoking_status</th>\n",
       "      <th>stroke</th>\n",
       "    </tr>\n",
       "  </thead>\n",
       "  <tbody>\n",
       "    <tr>\n",
       "      <th>4152</th>\n",
       "      <td>Male</td>\n",
       "      <td>55.0</td>\n",
       "      <td>no</td>\n",
       "      <td>no</td>\n",
       "      <td>Yes</td>\n",
       "      <td>Self-employed</td>\n",
       "      <td>Rural</td>\n",
       "      <td>73.57</td>\n",
       "      <td>28.0</td>\n",
       "      <td>smokes</td>\n",
       "      <td>0</td>\n",
       "    </tr>\n",
       "    <tr>\n",
       "      <th>4051</th>\n",
       "      <td>Male</td>\n",
       "      <td>55.0</td>\n",
       "      <td>no</td>\n",
       "      <td>no</td>\n",
       "      <td>Yes</td>\n",
       "      <td>Govt_job</td>\n",
       "      <td>Urban</td>\n",
       "      <td>231.15</td>\n",
       "      <td>22.3</td>\n",
       "      <td>never smoked</td>\n",
       "      <td>0</td>\n",
       "    </tr>\n",
       "    <tr>\n",
       "      <th>5076</th>\n",
       "      <td>Female</td>\n",
       "      <td>34.0</td>\n",
       "      <td>no</td>\n",
       "      <td>no</td>\n",
       "      <td>Yes</td>\n",
       "      <td>Private</td>\n",
       "      <td>Rural</td>\n",
       "      <td>174.37</td>\n",
       "      <td>23.0</td>\n",
       "      <td>never smoked</td>\n",
       "      <td>0</td>\n",
       "    </tr>\n",
       "    <tr>\n",
       "      <th>874</th>\n",
       "      <td>Male</td>\n",
       "      <td>80.0</td>\n",
       "      <td>no</td>\n",
       "      <td>no</td>\n",
       "      <td>Yes</td>\n",
       "      <td>Private</td>\n",
       "      <td>Rural</td>\n",
       "      <td>56.99</td>\n",
       "      <td>26.7</td>\n",
       "      <td>never smoked</td>\n",
       "      <td>0</td>\n",
       "    </tr>\n",
       "    <tr>\n",
       "      <th>3534</th>\n",
       "      <td>Female</td>\n",
       "      <td>61.0</td>\n",
       "      <td>no</td>\n",
       "      <td>no</td>\n",
       "      <td>Yes</td>\n",
       "      <td>Private</td>\n",
       "      <td>Urban</td>\n",
       "      <td>108.18</td>\n",
       "      <td>19.1</td>\n",
       "      <td>never smoked</td>\n",
       "      <td>0</td>\n",
       "    </tr>\n",
       "    <tr>\n",
       "      <th>...</th>\n",
       "      <td>...</td>\n",
       "      <td>...</td>\n",
       "      <td>...</td>\n",
       "      <td>...</td>\n",
       "      <td>...</td>\n",
       "      <td>...</td>\n",
       "      <td>...</td>\n",
       "      <td>...</td>\n",
       "      <td>...</td>\n",
       "      <td>...</td>\n",
       "      <td>...</td>\n",
       "    </tr>\n",
       "    <tr>\n",
       "      <th>2895</th>\n",
       "      <td>Male</td>\n",
       "      <td>46.0</td>\n",
       "      <td>no</td>\n",
       "      <td>no</td>\n",
       "      <td>Yes</td>\n",
       "      <td>Private</td>\n",
       "      <td>Urban</td>\n",
       "      <td>137.77</td>\n",
       "      <td>29.3</td>\n",
       "      <td>never smoked</td>\n",
       "      <td>0</td>\n",
       "    </tr>\n",
       "    <tr>\n",
       "      <th>2763</th>\n",
       "      <td>Female</td>\n",
       "      <td>45.0</td>\n",
       "      <td>no</td>\n",
       "      <td>no</td>\n",
       "      <td>Yes</td>\n",
       "      <td>Private</td>\n",
       "      <td>Rural</td>\n",
       "      <td>63.73</td>\n",
       "      <td>32.0</td>\n",
       "      <td>Unknown</td>\n",
       "      <td>0</td>\n",
       "    </tr>\n",
       "    <tr>\n",
       "      <th>905</th>\n",
       "      <td>Female</td>\n",
       "      <td>31.0</td>\n",
       "      <td>no</td>\n",
       "      <td>no</td>\n",
       "      <td>Yes</td>\n",
       "      <td>Private</td>\n",
       "      <td>Rural</td>\n",
       "      <td>76.26</td>\n",
       "      <td>35.6</td>\n",
       "      <td>never smoked</td>\n",
       "      <td>0</td>\n",
       "    </tr>\n",
       "    <tr>\n",
       "      <th>3980</th>\n",
       "      <td>Female</td>\n",
       "      <td>45.0</td>\n",
       "      <td>no</td>\n",
       "      <td>no</td>\n",
       "      <td>Yes</td>\n",
       "      <td>Private</td>\n",
       "      <td>Rural</td>\n",
       "      <td>218.10</td>\n",
       "      <td>55.0</td>\n",
       "      <td>smokes</td>\n",
       "      <td>0</td>\n",
       "    </tr>\n",
       "    <tr>\n",
       "      <th>235</th>\n",
       "      <td>Female</td>\n",
       "      <td>68.0</td>\n",
       "      <td>no</td>\n",
       "      <td>no</td>\n",
       "      <td>Yes</td>\n",
       "      <td>Private</td>\n",
       "      <td>Rural</td>\n",
       "      <td>211.06</td>\n",
       "      <td>39.3</td>\n",
       "      <td>Unknown</td>\n",
       "      <td>1</td>\n",
       "    </tr>\n",
       "  </tbody>\n",
       "</table>\n",
       "<p>4088 rows × 11 columns</p>\n",
       "</div>"
      ],
      "text/plain": [
       "      gender   age hypertension heart_disease ever_married      work_type  \\\n",
       "4152    Male  55.0           no            no          Yes  Self-employed   \n",
       "4051    Male  55.0           no            no          Yes       Govt_job   \n",
       "5076  Female  34.0           no            no          Yes        Private   \n",
       "874     Male  80.0           no            no          Yes        Private   \n",
       "3534  Female  61.0           no            no          Yes        Private   \n",
       "...      ...   ...          ...           ...          ...            ...   \n",
       "2895    Male  46.0           no            no          Yes        Private   \n",
       "2763  Female  45.0           no            no          Yes        Private   \n",
       "905   Female  31.0           no            no          Yes        Private   \n",
       "3980  Female  45.0           no            no          Yes        Private   \n",
       "235   Female  68.0           no            no          Yes        Private   \n",
       "\n",
       "     residence_type  avg_glucose_level   bmi smoking_status  stroke  \n",
       "4152          Rural              73.57  28.0         smokes       0  \n",
       "4051          Urban             231.15  22.3   never smoked       0  \n",
       "5076          Rural             174.37  23.0   never smoked       0  \n",
       "874           Rural              56.99  26.7   never smoked       0  \n",
       "3534          Urban             108.18  19.1   never smoked       0  \n",
       "...             ...                ...   ...            ...     ...  \n",
       "2895          Urban             137.77  29.3   never smoked       0  \n",
       "2763          Rural              63.73  32.0        Unknown       0  \n",
       "905           Rural              76.26  35.6   never smoked       0  \n",
       "3980          Rural             218.10  55.0         smokes       0  \n",
       "235           Rural             211.06  39.3        Unknown       1  \n",
       "\n",
       "[4088 rows x 11 columns]"
      ]
     },
     "execution_count": 40,
     "metadata": {},
     "output_type": "execute_result"
    }
   ],
   "source": [
    "df_full_train"
   ]
  },
  {
   "cell_type": "code",
   "execution_count": 41,
   "metadata": {
    "execution": {
     "iopub.execute_input": "2022-11-09T00:31:23.800856Z",
     "iopub.status.busy": "2022-11-09T00:31:23.800460Z",
     "iopub.status.idle": "2022-11-09T00:31:23.808542Z",
     "shell.execute_reply": "2022-11-09T00:31:23.807407Z",
     "shell.execute_reply.started": "2022-11-09T00:31:23.800824Z"
    }
   },
   "outputs": [],
   "source": [
    "def train_logistic(df):\n",
    "    dicts_train = df[categorical_chosen+numerical_chosen].to_dict(orient='records')\n",
    "    dv= DictVectorizer(sparse=False)\n",
    "    X_train= dv.fit_transform(dicts_train)\n",
    "    y_train= df.stroke.values\n",
    "    model= LogisticRegression(solver='liblinear', C=1.0, max_iter= 1000)\n",
    "    model.fit(X_train, y_train)\n",
    "    \n",
    "    return X_train, y_train,dv, model"
   ]
  },
  {
   "cell_type": "code",
   "execution_count": 42,
   "metadata": {
    "execution": {
     "iopub.execute_input": "2022-11-09T00:31:24.053559Z",
     "iopub.status.busy": "2022-11-09T00:31:24.052897Z",
     "iopub.status.idle": "2022-11-09T00:31:24.059241Z",
     "shell.execute_reply": "2022-11-09T00:31:24.058133Z",
     "shell.execute_reply.started": "2022-11-09T00:31:24.053519Z"
    }
   },
   "outputs": [],
   "source": [
    "def predicition_logistic(df,dv, model):\n",
    "    dicts_val = df[categorical_chosen+numerical_chosen].to_dict(orient='records')\n",
    "    X_val= dv.transform(dicts_val)\n",
    "    y_predict= model.predict_proba(X_val)\n",
    "    \n",
    "    return y_predict"
   ]
  },
  {
   "cell_type": "markdown",
   "metadata": {},
   "source": [
    "### cross-validation"
   ]
  },
  {
   "cell_type": "code",
   "execution_count": 43,
   "metadata": {
    "execution": {
     "iopub.execute_input": "2022-11-09T00:54:20.511573Z",
     "iopub.status.busy": "2022-11-09T00:54:20.510340Z",
     "iopub.status.idle": "2022-11-09T00:54:20.875693Z",
     "shell.execute_reply": "2022-11-09T00:54:20.874412Z",
     "shell.execute_reply.started": "2022-11-09T00:54:20.511528Z"
    }
   },
   "outputs": [
    {
     "name": "stdout",
     "output_type": "stream",
     "text": [
      "mean: 0.818 & std : 0.000 \n",
      "mean: 0.831 & std : 0.012 \n",
      "mean: 0.835 & std : 0.012 \n",
      "mean: 0.829 & std : 0.014 \n",
      "mean: 0.829 & std : 0.012 \n"
     ]
    }
   ],
   "source": [
    "kfold = KFold(n_splits=5, shuffle=True, random_state=1)\n",
    "\n",
    "auc_scores= []\n",
    "\n",
    "for train_idx, val_idx in kfold.split(df_full_train):\n",
    "    df_train2 = df_full_train.iloc[train_idx]\n",
    "    \n",
    "    df_val2= df_full_train.iloc[val_idx]\n",
    "    X_train2, y_train2, dv, model_log2= train_logistic(df_train2)\n",
    "    y_val2= df_val2.stroke.values\n",
    "    \n",
    "    y_predict6= predicition_logistic(df_val2, dv, model_log2)\n",
    "    \n",
    "    y_predict6 = y_predict6[:,1] \n",
    "    \n",
    "    auc = roc_auc_score(y_val2,y_predict6)\n",
    "    \n",
    "    auc_scores.append(auc)\n",
    "    \n",
    "    print(\"mean: %.3f & std : %.3f \" %(np.mean(auc_scores),np.std(auc_scores)))"
   ]
  },
  {
   "cell_type": "code",
   "execution_count": 44,
   "metadata": {
    "execution": {
     "iopub.execute_input": "2022-11-06T16:15:31.383300Z",
     "iopub.status.busy": "2022-11-06T16:15:31.382878Z",
     "iopub.status.idle": "2022-11-06T16:15:31.485893Z",
     "shell.execute_reply": "2022-11-06T16:15:31.484369Z",
     "shell.execute_reply.started": "2022-11-06T16:15:31.383267Z"
    }
   },
   "outputs": [
    {
     "data": {
      "text/plain": [
       "0.8647609147609148"
      ]
     },
     "execution_count": 44,
     "metadata": {},
     "output_type": "execute_result"
    }
   ],
   "source": [
    "X_train5, y_train5, dv5, model_log5= train_logistic(df_full_train)\n",
    "y_predict9= predicition_logistic(df_test, dv5, model_log5)\n",
    "    \n",
    "y_predict9 = y_predict9[:,1] \n",
    "    \n",
    "roc_auc_score(y_test,y_predict9)\n",
    "    "
   ]
  },
  {
   "cell_type": "markdown",
   "metadata": {},
   "source": [
    "## XGboost"
   ]
  },
  {
   "cell_type": "code",
   "execution_count": 51,
   "metadata": {
    "execution": {
     "iopub.execute_input": "2022-11-09T00:31:47.431459Z",
     "iopub.status.busy": "2022-11-09T00:31:47.431046Z",
     "iopub.status.idle": "2022-11-09T00:31:47.584053Z",
     "shell.execute_reply": "2022-11-09T00:31:47.582946Z",
     "shell.execute_reply.started": "2022-11-09T00:31:47.431426Z"
    }
   },
   "outputs": [],
   "source": [
    "import xgboost as xgb"
   ]
  },
  {
   "cell_type": "code",
   "execution_count": 52,
   "metadata": {
    "execution": {
     "iopub.execute_input": "2022-11-06T16:14:02.534402Z",
     "iopub.status.busy": "2022-11-06T16:14:02.533901Z",
     "iopub.status.idle": "2022-11-06T16:14:02.589933Z",
     "shell.execute_reply": "2022-11-06T16:14:02.588832Z",
     "shell.execute_reply.started": "2022-11-06T16:14:02.534361Z"
    }
   },
   "outputs": [],
   "source": [
    "dtrain = xgb.DMatrix(x_train, label=y_train, feature_names=dv.feature_names_)\n",
    "dval = xgb.DMatrix(x_val, label=y_val, feature_names=dv.feature_names_)\n",
    "dtest = xgb.DMatrix(x_test, label=y_test, feature_names=dv.feature_names_)"
   ]
  },
  {
   "cell_type": "markdown",
   "metadata": {},
   "source": [
    "### XGboost parameters"
   ]
  },
  {
   "cell_type": "code",
   "execution_count": 54,
   "metadata": {
    "execution": {
     "iopub.execute_input": "2022-11-09T00:31:53.577186Z",
     "iopub.status.busy": "2022-11-09T00:31:53.576462Z",
     "iopub.status.idle": "2022-11-09T00:31:53.583476Z",
     "shell.execute_reply": "2022-11-09T00:31:53.582022Z",
     "shell.execute_reply.started": "2022-11-09T00:31:53.577144Z"
    }
   },
   "outputs": [],
   "source": [
    "xgb_params = {\n",
    "    'eta': 0.3,\n",
    "    'max_depth': 6,\n",
    "    'min_child_weight': 1,\n",
    "    'objective': 'binary:logistic',\n",
    "    'nthread': 8,\n",
    "    'seed': 1,\n",
    "    'verbosity': 0\n",
    "}"
   ]
  },
  {
   "cell_type": "markdown",
   "metadata": {},
   "source": [
    "### Cross-validation"
   ]
  },
  {
   "cell_type": "code",
   "execution_count": 57,
   "metadata": {
    "execution": {
     "iopub.execute_input": "2022-11-09T00:32:07.432282Z",
     "iopub.status.busy": "2022-11-09T00:32:07.431857Z",
     "iopub.status.idle": "2022-11-09T00:32:08.318615Z",
     "shell.execute_reply": "2022-11-09T00:32:08.317244Z",
     "shell.execute_reply.started": "2022-11-09T00:32:07.432250Z"
    }
   },
   "outputs": [
    {
     "name": "stdout",
     "output_type": "stream",
     "text": [
      "mean: 0.827 & std : 0.000 \n",
      "mean: 0.817 & std : 0.009 \n",
      "mean: 0.821 & std : 0.009 \n",
      "mean: 0.818 & std : 0.009 \n",
      "mean: 0.812 & std : 0.015 \n"
     ]
    }
   ],
   "source": [
    "kfold = KFold(n_splits=5, shuffle=True, random_state=1)\n",
    "\n",
    "xg_auc_scores= []\n",
    "\n",
    "for train_idx, val_idx in kfold.split(df_full_train):\n",
    "    df_train3 = df_full_train.iloc[train_idx]\n",
    "    \n",
    "    df_val3= df_full_train.iloc[val_idx]\n",
    "    x_train3, y_train3, dv2= train_feat_extr(df_train3)\n",
    "    y_val3= df_val3.stroke.values\n",
    "    x_val3= pred_feat_etr(df_val3, dv2)\n",
    "    dtrain2 = xgb.DMatrix(x_train3, label=y_train3, feature_names=dv2.feature_names_)\n",
    "    dval2 = xgb.DMatrix(x_val3, label=y_val3, feature_names=dv2.feature_names_)\n",
    "    \n",
    "    model2 = xgb.train(xgb_params, dtrain2, num_boost_round=10)\n",
    "    y_predxg2 = model2.predict(dval2)\n",
    "    auc2 = roc_auc_score(y_val3,y_predxg2)\n",
    "    \n",
    "    xg_auc_scores.append(auc2)\n",
    "    \n",
    "    print(\"mean: %.3f & std : %.3f \" %(np.mean(xg_auc_scores),np.std(xg_auc_scores)))"
   ]
  },
  {
   "cell_type": "code",
   "execution_count": 58,
   "metadata": {
    "execution": {
     "iopub.execute_input": "2022-11-06T06:03:56.238520Z",
     "iopub.status.busy": "2022-11-06T06:03:56.238208Z",
     "iopub.status.idle": "2022-11-06T06:03:56.482268Z",
     "shell.execute_reply": "2022-11-06T06:03:56.481291Z",
     "shell.execute_reply.started": "2022-11-06T06:03:56.238497Z"
    }
   },
   "outputs": [
    {
     "data": {
      "text/plain": [
       "0.848639986139986"
      ]
     },
     "execution_count": 58,
     "metadata": {},
     "output_type": "execute_result"
    }
   ],
   "source": [
    "x_train6, y_train6, dv9= train_feat_extr(df_full_train)\n",
    "dtrain6 = xgb.DMatrix(x_train6, label=y_train6, feature_names=dv9.feature_names_)\n",
    "model6 = xgb.train(xgb_params, dtrain6, num_boost_round=10)\n",
    "y_predxg6 = model6.predict(dtest)\n",
    "roc_auc_score(y_test,y_predxg6)"
   ]
  },
  {
   "cell_type": "markdown",
   "metadata": {},
   "source": [
    "# saving the selected model "
   ]
  },
  {
   "cell_type": "code",
   "execution_count": 60,
   "metadata": {
    "execution": {
     "iopub.execute_input": "2022-11-06T16:15:53.693054Z",
     "iopub.status.busy": "2022-11-06T16:15:53.692193Z",
     "iopub.status.idle": "2022-11-06T16:15:53.698100Z",
     "shell.execute_reply": "2022-11-06T16:15:53.696925Z",
     "shell.execute_reply.started": "2022-11-06T16:15:53.693006Z"
    }
   },
   "outputs": [],
   "source": [
    "import pickle"
   ]
  },
  {
   "cell_type": "code",
   "execution_count": 61,
   "metadata": {
    "execution": {
     "iopub.execute_input": "2022-11-06T16:15:54.741603Z",
     "iopub.status.busy": "2022-11-06T16:15:54.741157Z",
     "iopub.status.idle": "2022-11-06T16:15:54.748814Z",
     "shell.execute_reply": "2022-11-06T16:15:54.747344Z",
     "shell.execute_reply.started": "2022-11-06T16:15:54.741564Z"
    }
   },
   "outputs": [
    {
     "data": {
      "text/plain": [
       "'modellog5.bin'"
      ]
     },
     "execution_count": 61,
     "metadata": {},
     "output_type": "execute_result"
    }
   ],
   "source": [
    "output_file = f'modellog5.bin'\n",
    "\n",
    "output_file"
   ]
  },
  {
   "cell_type": "code",
   "execution_count": 62,
   "metadata": {
    "execution": {
     "iopub.execute_input": "2022-11-06T16:16:15.596156Z",
     "iopub.status.busy": "2022-11-06T16:16:15.595721Z",
     "iopub.status.idle": "2022-11-06T16:16:15.603045Z",
     "shell.execute_reply": "2022-11-06T16:16:15.601925Z",
     "shell.execute_reply.started": "2022-11-06T16:16:15.596122Z"
    }
   },
   "outputs": [],
   "source": [
    "f_out=open(output_file,'wb')\n",
    "\n",
    "pickle.dump((dv5, model_log5),f_out)\n",
    "\n",
    "f_out.close()"
   ]
  }
 ],
 "metadata": {
  "kernelspec": {
   "display_name": "Python 3 (ipykernel)",
   "language": "python",
   "name": "python3"
  },
  "language_info": {
   "codemirror_mode": {
    "name": "ipython",
    "version": 3
   },
   "file_extension": ".py",
   "mimetype": "text/x-python",
   "name": "python",
   "nbconvert_exporter": "python",
   "pygments_lexer": "ipython3",
   "version": "3.9.12"
  }
 },
 "nbformat": 4,
 "nbformat_minor": 4
}
